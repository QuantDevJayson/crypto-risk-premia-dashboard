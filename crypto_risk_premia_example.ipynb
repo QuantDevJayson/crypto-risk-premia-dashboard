{
 "cells": [
  {
   "cell_type": "markdown",
   "id": "4a6120cd",
   "metadata": {},
   "source": [
    "# Crypto Risk Premia Project Example Notebook\n",
    "\n",
    "This notebook demonstrates the data pipeline, noise reduction, factor computation, and dashboard integration for the crypto-risk-premia project."
   ]
  },
  {
   "cell_type": "markdown",
   "id": "3c872b08",
   "metadata": {},
   "source": [
    "## 1. Data Acquisition and Cleaning\n",
    "\n",
    "Fetch OHLCV data for BTC, ETH, and altcoins using yfinance. Clean and preprocess data, handling missing values and anomalies."
   ]
  },
  {
   "cell_type": "code",
   "execution_count": null,
   "id": "e3d1cf7d",
   "metadata": {},
   "outputs": [],
   "source": [
    "import yfinance as yf\n",
    "import pandas as pd\n",
    "import numpy as np\n",
    "from data_loader import download_crypto_data, remove_noise\n",
    "\n",
    "assets = [\"BTC-USD\", \"ETH-USD\", \"SOL-USD\"]\n",
    "raw_data = {}\n",
    "for asset in assets:\n",
    "    raw_data[asset] = download_crypto_data(asset, start=\"2018-01-01\")\n",
    "\n",
    "# Display first few rows of BTC data\n",
    "raw_data[\"BTC-USD\"].head()"
   ]
  },
  {
   "cell_type": "markdown",
   "id": "5908a2cb",
   "metadata": {},
   "source": [
    "## 2. Noise Reduction Techniques\n",
    "\n",
    "Apply rolling median filter, Z-score outlier clipping, EMA smoothing, and optionally Kalman filter to denoise crypto price data."
   ]
  },
  {
   "cell_type": "code",
   "execution_count": null,
   "id": "6017f543",
   "metadata": {},
   "outputs": [],
   "source": [
    "import matplotlib.pyplot as plt\n",
    "btc_raw = raw_data[\"BTC-USD\"]\n",
    "btc_median = remove_noise(btc_raw, method=\"rolling_median\")\n",
    "btc_zscore = remove_noise(btc_raw, method=\"zscore_clip\")\n",
    "btc_ema = remove_noise(btc_raw, method=\"ema\")\n",
    "\n",
    "plt.figure(figsize=(12,6))\n",
    "plt.plot(btc_raw['Close'], label='Raw')\n",
    "plt.plot(btc_median['Close'], label='Rolling Median')\n",
    "plt.plot(btc_zscore['Close'], label='Z-Score Clipped')\n",
    "plt.plot(btc_ema['Close'], label='EMA Smoothed')\n",
    "plt.title('BTC-USD Close Price: Raw vs Denoised')\n",
    "plt.legend()\n",
    "plt.show()"
   ]
  },
  {
   "cell_type": "markdown",
   "id": "1bc8320d",
   "metadata": {},
   "source": [
    "## 3. Factor Computation Modules\n",
    "\n",
    "Compute market risk premium, momentum, low-volatility anomaly, and other factors using cleaned data."
   ]
  },
  {
   "cell_type": "code",
   "execution_count": null,
   "id": "6990a589",
   "metadata": {},
   "outputs": [],
   "source": [
    "from factors.momentum import compute_momentum_factor\n",
    "lookback = 90\n",
    "momentum_raw = compute_momentum_factor(btc_raw['Close'], lookback)\n",
    "momentum_median = compute_momentum_factor(btc_median['Close'], lookback)\n",
    "momentum_zscore = compute_momentum_factor(btc_zscore['Close'], lookback)\n",
    "momentum_ema = compute_momentum_factor(btc_ema['Close'], lookback)\n",
    "\n",
    "plt.figure(figsize=(12,6))\n",
    "momentum_raw.cumsum().plot(label='Raw')\n",
    "momentum_median.cumsum().plot(label='Rolling Median')\n",
    "momentum_zscore.cumsum().plot(label='Z-Score Clipped')\n",
    "momentum_ema.cumsum().plot(label='EMA Smoothed')\n",
    "plt.title(f'BTC-USD Momentum Factor ({lookback} days) - Raw vs Denoised')\n",
    "plt.legend()\n",
    "plt.show()"
   ]
  },
  {
   "cell_type": "markdown",
   "id": "ee151401",
   "metadata": {},
   "source": [
    "## 4. Streamlit Dashboard Integration\n",
    "\n",
    "Integrate data pipeline and factor modules into a Streamlit dashboard with interactive controls for asset selection, noise reduction method, and raw vs cleaned data comparison."
   ]
  },
  {
   "cell_type": "markdown",
   "id": "a74c2375",
   "metadata": {},
   "source": [
    "## 5. Dashboard Pages: Market Risk Premium\n",
    "\n",
    "Visualize BTC excess returns over stablecoin yields and factor beta of altcoins to BTC."
   ]
  },
  {
   "cell_type": "markdown",
   "id": "d004e3be",
   "metadata": {},
   "source": [
    "## 6. Dashboard Pages: Momentum Factor\n",
    "\n",
    "Show raw vs cleaned momentum signals and related performance metrics (Sharpe, CAGR, Max DD)."
   ]
  },
  {
   "cell_type": "markdown",
   "id": "fcd27cc2",
   "metadata": {},
   "source": [
    "## 7. Dashboard Pages: Low Volatility Factor\n",
    "\n",
    "Analyze volatility clustering and anomaly detection, comparing raw vs denoised volatility baskets."
   ]
  },
  {
   "cell_type": "markdown",
   "id": "ebe9c177",
   "metadata": {},
   "source": [
    "## 8. Dashboard Pages: Network Value Factor\n",
    "\n",
    "Integrate on-chain metrics such as active addresses and NVT ratio for network value analysis."
   ]
  },
  {
   "cell_type": "markdown",
   "id": "c7e8c01d",
   "metadata": {},
   "source": [
    "## 9. Dashboard Pages: Factor Combination Portfolio\n",
    "\n",
    "Build and backtest factor-weighted crypto portfolios, comparing clean vs raw performance."
   ]
  }
 ],
 "metadata": {
  "language_info": {
   "name": "python"
  }
 },
 "nbformat": 4,
 "nbformat_minor": 5
}
